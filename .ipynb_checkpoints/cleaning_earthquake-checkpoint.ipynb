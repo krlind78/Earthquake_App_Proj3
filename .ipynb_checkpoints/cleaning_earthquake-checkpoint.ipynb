{
 "cells": [
  {
   "cell_type": "code",
   "execution_count": 1,
   "id": "ca2284d9",
   "metadata": {},
   "outputs": [],
   "source": [
    "# cleaning earthquake"
   ]
  },
  {
   "cell_type": "code",
   "execution_count": 1,
   "id": "7a5ffa66",
   "metadata": {},
   "outputs": [],
   "source": [
    "import numpy as np\n",
    "import pandas as pd"
   ]
  },
  {
   "cell_type": "code",
   "execution_count": 2,
   "id": "66affaaf",
   "metadata": {},
   "outputs": [],
   "source": [
    "df = pd.read_csv('resources/earthquake_data.csv')"
   ]
  },
  {
   "cell_type": "code",
   "execution_count": 3,
   "id": "b326233c",
   "metadata": {},
   "outputs": [
    {
     "data": {
      "text/html": [
       "<div>\n",
       "<style scoped>\n",
       "    .dataframe tbody tr th:only-of-type {\n",
       "        vertical-align: middle;\n",
       "    }\n",
       "\n",
       "    .dataframe tbody tr th {\n",
       "        vertical-align: top;\n",
       "    }\n",
       "\n",
       "    .dataframe thead th {\n",
       "        text-align: right;\n",
       "    }\n",
       "</style>\n",
       "<table border=\"1\" class=\"dataframe\">\n",
       "  <thead>\n",
       "    <tr style=\"text-align: right;\">\n",
       "      <th></th>\n",
       "      <th>title</th>\n",
       "      <th>magnitude</th>\n",
       "      <th>date_time</th>\n",
       "      <th>cdi</th>\n",
       "      <th>mmi</th>\n",
       "      <th>alert</th>\n",
       "      <th>tsunami</th>\n",
       "      <th>sig</th>\n",
       "      <th>net</th>\n",
       "      <th>nst</th>\n",
       "      <th>dmin</th>\n",
       "      <th>gap</th>\n",
       "      <th>magType</th>\n",
       "      <th>depth</th>\n",
       "      <th>latitude</th>\n",
       "      <th>longitude</th>\n",
       "      <th>location</th>\n",
       "      <th>continent</th>\n",
       "      <th>country</th>\n",
       "    </tr>\n",
       "  </thead>\n",
       "  <tbody>\n",
       "    <tr>\n",
       "      <th>0</th>\n",
       "      <td>M 7.0 - 18 km SW of Malango, Solomon Islands</td>\n",
       "      <td>7.0</td>\n",
       "      <td>22-11-2022 02:03</td>\n",
       "      <td>8</td>\n",
       "      <td>7</td>\n",
       "      <td>green</td>\n",
       "      <td>1</td>\n",
       "      <td>768</td>\n",
       "      <td>us</td>\n",
       "      <td>117</td>\n",
       "      <td>0.509</td>\n",
       "      <td>17.0</td>\n",
       "      <td>mww</td>\n",
       "      <td>14.000</td>\n",
       "      <td>-9.7963</td>\n",
       "      <td>159.596</td>\n",
       "      <td>Malango, Solomon Islands</td>\n",
       "      <td>Oceania</td>\n",
       "      <td>Solomon Islands</td>\n",
       "    </tr>\n",
       "    <tr>\n",
       "      <th>1</th>\n",
       "      <td>M 6.9 - 204 km SW of Bengkulu, Indonesia</td>\n",
       "      <td>6.9</td>\n",
       "      <td>18-11-2022 13:37</td>\n",
       "      <td>4</td>\n",
       "      <td>4</td>\n",
       "      <td>green</td>\n",
       "      <td>0</td>\n",
       "      <td>735</td>\n",
       "      <td>us</td>\n",
       "      <td>99</td>\n",
       "      <td>2.229</td>\n",
       "      <td>34.0</td>\n",
       "      <td>mww</td>\n",
       "      <td>25.000</td>\n",
       "      <td>-4.9559</td>\n",
       "      <td>100.738</td>\n",
       "      <td>Bengkulu, Indonesia</td>\n",
       "      <td>NaN</td>\n",
       "      <td>NaN</td>\n",
       "    </tr>\n",
       "    <tr>\n",
       "      <th>2</th>\n",
       "      <td>M 7.0 -</td>\n",
       "      <td>7.0</td>\n",
       "      <td>12-11-2022 07:09</td>\n",
       "      <td>3</td>\n",
       "      <td>3</td>\n",
       "      <td>green</td>\n",
       "      <td>1</td>\n",
       "      <td>755</td>\n",
       "      <td>us</td>\n",
       "      <td>147</td>\n",
       "      <td>3.125</td>\n",
       "      <td>18.0</td>\n",
       "      <td>mww</td>\n",
       "      <td>579.000</td>\n",
       "      <td>-20.0508</td>\n",
       "      <td>-178.346</td>\n",
       "      <td>NaN</td>\n",
       "      <td>Oceania</td>\n",
       "      <td>Fiji</td>\n",
       "    </tr>\n",
       "    <tr>\n",
       "      <th>3</th>\n",
       "      <td>M 7.3 - 205 km ESE of Neiafu, Tonga</td>\n",
       "      <td>7.3</td>\n",
       "      <td>11-11-2022 10:48</td>\n",
       "      <td>5</td>\n",
       "      <td>5</td>\n",
       "      <td>green</td>\n",
       "      <td>1</td>\n",
       "      <td>833</td>\n",
       "      <td>us</td>\n",
       "      <td>149</td>\n",
       "      <td>1.865</td>\n",
       "      <td>21.0</td>\n",
       "      <td>mww</td>\n",
       "      <td>37.000</td>\n",
       "      <td>-19.2918</td>\n",
       "      <td>-172.129</td>\n",
       "      <td>Neiafu, Tonga</td>\n",
       "      <td>NaN</td>\n",
       "      <td>NaN</td>\n",
       "    </tr>\n",
       "    <tr>\n",
       "      <th>4</th>\n",
       "      <td>M 6.6 -</td>\n",
       "      <td>6.6</td>\n",
       "      <td>09-11-2022 10:14</td>\n",
       "      <td>0</td>\n",
       "      <td>2</td>\n",
       "      <td>green</td>\n",
       "      <td>1</td>\n",
       "      <td>670</td>\n",
       "      <td>us</td>\n",
       "      <td>131</td>\n",
       "      <td>4.998</td>\n",
       "      <td>27.0</td>\n",
       "      <td>mww</td>\n",
       "      <td>624.464</td>\n",
       "      <td>-25.5948</td>\n",
       "      <td>178.278</td>\n",
       "      <td>NaN</td>\n",
       "      <td>NaN</td>\n",
       "      <td>NaN</td>\n",
       "    </tr>\n",
       "  </tbody>\n",
       "</table>\n",
       "</div>"
      ],
      "text/plain": [
       "                                          title  magnitude         date_time  \\\n",
       "0  M 7.0 - 18 km SW of Malango, Solomon Islands        7.0  22-11-2022 02:03   \n",
       "1      M 6.9 - 204 km SW of Bengkulu, Indonesia        6.9  18-11-2022 13:37   \n",
       "2                                      M 7.0 -         7.0  12-11-2022 07:09   \n",
       "3           M 7.3 - 205 km ESE of Neiafu, Tonga        7.3  11-11-2022 10:48   \n",
       "4                                      M 6.6 -         6.6  09-11-2022 10:14   \n",
       "\n",
       "   cdi  mmi  alert  tsunami  sig net  nst   dmin   gap magType    depth  \\\n",
       "0    8    7  green        1  768  us  117  0.509  17.0     mww   14.000   \n",
       "1    4    4  green        0  735  us   99  2.229  34.0     mww   25.000   \n",
       "2    3    3  green        1  755  us  147  3.125  18.0     mww  579.000   \n",
       "3    5    5  green        1  833  us  149  1.865  21.0     mww   37.000   \n",
       "4    0    2  green        1  670  us  131  4.998  27.0     mww  624.464   \n",
       "\n",
       "   latitude  longitude                  location continent          country  \n",
       "0   -9.7963    159.596  Malango, Solomon Islands   Oceania  Solomon Islands  \n",
       "1   -4.9559    100.738       Bengkulu, Indonesia       NaN              NaN  \n",
       "2  -20.0508   -178.346                       NaN   Oceania             Fiji  \n",
       "3  -19.2918   -172.129             Neiafu, Tonga       NaN              NaN  \n",
       "4  -25.5948    178.278                       NaN       NaN              NaN  "
      ]
     },
     "execution_count": 3,
     "metadata": {},
     "output_type": "execute_result"
    }
   ],
   "source": [
    "df.head()"
   ]
  },
  {
   "cell_type": "code",
   "execution_count": 5,
   "id": "22413f3a",
   "metadata": {},
   "outputs": [
    {
     "data": {
      "text/plain": [
       "Index(['title', 'magnitude', 'date_time', 'cdi', 'mmi', 'alert', 'tsunami',\n",
       "       'sig', 'net', 'nst', 'dmin', 'gap', 'magType', 'depth', 'latitude',\n",
       "       'longitude', 'location', 'continent', 'country'],\n",
       "      dtype='object')"
      ]
     },
     "execution_count": 5,
     "metadata": {},
     "output_type": "execute_result"
    }
   ],
   "source": [
    "df.columns"
   ]
  },
  {
   "cell_type": "code",
   "execution_count": 7,
   "id": "acb03e82",
   "metadata": {},
   "outputs": [],
   "source": [
    "# columns we keep:\n",
    "# title\n",
    "# magnitude\n",
    "# date_time\n",
    "# tsunami\n",
    "# depth\n",
    "# latitude\n",
    "# longitude\n",
    "# alert\n",
    "# location\n",
    "# continent\n",
    "# country\n",
    "# nst\n",
    "\n",
    "df2 = df[['title', 'magnitude', 'date_time', 'alert','tsunami', 'nst',\n",
    "         'depth','latitude','longitude','location','continent','country']]"
   ]
  },
  {
   "cell_type": "code",
   "execution_count": 8,
   "id": "da8a5244",
   "metadata": {},
   "outputs": [
    {
     "data": {
      "text/html": [
       "<div>\n",
       "<style scoped>\n",
       "    .dataframe tbody tr th:only-of-type {\n",
       "        vertical-align: middle;\n",
       "    }\n",
       "\n",
       "    .dataframe tbody tr th {\n",
       "        vertical-align: top;\n",
       "    }\n",
       "\n",
       "    .dataframe thead th {\n",
       "        text-align: right;\n",
       "    }\n",
       "</style>\n",
       "<table border=\"1\" class=\"dataframe\">\n",
       "  <thead>\n",
       "    <tr style=\"text-align: right;\">\n",
       "      <th></th>\n",
       "      <th>title</th>\n",
       "      <th>magnitude</th>\n",
       "      <th>date_time</th>\n",
       "      <th>alert</th>\n",
       "      <th>tsunami</th>\n",
       "      <th>nst</th>\n",
       "      <th>depth</th>\n",
       "      <th>latitude</th>\n",
       "      <th>longitude</th>\n",
       "      <th>location</th>\n",
       "      <th>continent</th>\n",
       "      <th>country</th>\n",
       "    </tr>\n",
       "  </thead>\n",
       "  <tbody>\n",
       "    <tr>\n",
       "      <th>0</th>\n",
       "      <td>M 7.0 - 18 km SW of Malango, Solomon Islands</td>\n",
       "      <td>7.0</td>\n",
       "      <td>22-11-2022 02:03</td>\n",
       "      <td>green</td>\n",
       "      <td>1</td>\n",
       "      <td>117</td>\n",
       "      <td>14.000</td>\n",
       "      <td>-9.7963</td>\n",
       "      <td>159.596</td>\n",
       "      <td>Malango, Solomon Islands</td>\n",
       "      <td>Oceania</td>\n",
       "      <td>Solomon Islands</td>\n",
       "    </tr>\n",
       "    <tr>\n",
       "      <th>1</th>\n",
       "      <td>M 6.9 - 204 km SW of Bengkulu, Indonesia</td>\n",
       "      <td>6.9</td>\n",
       "      <td>18-11-2022 13:37</td>\n",
       "      <td>green</td>\n",
       "      <td>0</td>\n",
       "      <td>99</td>\n",
       "      <td>25.000</td>\n",
       "      <td>-4.9559</td>\n",
       "      <td>100.738</td>\n",
       "      <td>Bengkulu, Indonesia</td>\n",
       "      <td>NaN</td>\n",
       "      <td>NaN</td>\n",
       "    </tr>\n",
       "    <tr>\n",
       "      <th>2</th>\n",
       "      <td>M 7.0 -</td>\n",
       "      <td>7.0</td>\n",
       "      <td>12-11-2022 07:09</td>\n",
       "      <td>green</td>\n",
       "      <td>1</td>\n",
       "      <td>147</td>\n",
       "      <td>579.000</td>\n",
       "      <td>-20.0508</td>\n",
       "      <td>-178.346</td>\n",
       "      <td>NaN</td>\n",
       "      <td>Oceania</td>\n",
       "      <td>Fiji</td>\n",
       "    </tr>\n",
       "    <tr>\n",
       "      <th>3</th>\n",
       "      <td>M 7.3 - 205 km ESE of Neiafu, Tonga</td>\n",
       "      <td>7.3</td>\n",
       "      <td>11-11-2022 10:48</td>\n",
       "      <td>green</td>\n",
       "      <td>1</td>\n",
       "      <td>149</td>\n",
       "      <td>37.000</td>\n",
       "      <td>-19.2918</td>\n",
       "      <td>-172.129</td>\n",
       "      <td>Neiafu, Tonga</td>\n",
       "      <td>NaN</td>\n",
       "      <td>NaN</td>\n",
       "    </tr>\n",
       "    <tr>\n",
       "      <th>4</th>\n",
       "      <td>M 6.6 -</td>\n",
       "      <td>6.6</td>\n",
       "      <td>09-11-2022 10:14</td>\n",
       "      <td>green</td>\n",
       "      <td>1</td>\n",
       "      <td>131</td>\n",
       "      <td>624.464</td>\n",
       "      <td>-25.5948</td>\n",
       "      <td>178.278</td>\n",
       "      <td>NaN</td>\n",
       "      <td>NaN</td>\n",
       "      <td>NaN</td>\n",
       "    </tr>\n",
       "  </tbody>\n",
       "</table>\n",
       "</div>"
      ],
      "text/plain": [
       "                                          title  magnitude         date_time  \\\n",
       "0  M 7.0 - 18 km SW of Malango, Solomon Islands        7.0  22-11-2022 02:03   \n",
       "1      M 6.9 - 204 km SW of Bengkulu, Indonesia        6.9  18-11-2022 13:37   \n",
       "2                                      M 7.0 -         7.0  12-11-2022 07:09   \n",
       "3           M 7.3 - 205 km ESE of Neiafu, Tonga        7.3  11-11-2022 10:48   \n",
       "4                                      M 6.6 -         6.6  09-11-2022 10:14   \n",
       "\n",
       "   alert  tsunami  nst    depth  latitude  longitude  \\\n",
       "0  green        1  117   14.000   -9.7963    159.596   \n",
       "1  green        0   99   25.000   -4.9559    100.738   \n",
       "2  green        1  147  579.000  -20.0508   -178.346   \n",
       "3  green        1  149   37.000  -19.2918   -172.129   \n",
       "4  green        1  131  624.464  -25.5948    178.278   \n",
       "\n",
       "                   location continent          country  \n",
       "0  Malango, Solomon Islands   Oceania  Solomon Islands  \n",
       "1       Bengkulu, Indonesia       NaN              NaN  \n",
       "2                       NaN   Oceania             Fiji  \n",
       "3             Neiafu, Tonga       NaN              NaN  \n",
       "4                       NaN       NaN              NaN  "
      ]
     },
     "execution_count": 8,
     "metadata": {},
     "output_type": "execute_result"
    }
   ],
   "source": [
    "df2.head()"
   ]
  },
  {
   "cell_type": "code",
   "execution_count": 9,
   "id": "ea854e2e",
   "metadata": {},
   "outputs": [
    {
     "data": {
      "text/plain": [
       "(782, 12)"
      ]
     },
     "execution_count": 9,
     "metadata": {},
     "output_type": "execute_result"
    }
   ],
   "source": [
    "df2.shape"
   ]
  },
  {
   "cell_type": "code",
   "execution_count": 10,
   "id": "a67c823b",
   "metadata": {},
   "outputs": [
    {
     "data": {
      "text/plain": [
       "'01-01-2001 06:57'"
      ]
     },
     "execution_count": 10,
     "metadata": {},
     "output_type": "execute_result"
    }
   ],
   "source": [
    "df2['date_time'].min()"
   ]
  },
  {
   "cell_type": "code",
   "execution_count": 11,
   "id": "176b53f3",
   "metadata": {},
   "outputs": [
    {
     "data": {
      "text/plain": [
       "'31-10-2019 01:11'"
      ]
     },
     "execution_count": 11,
     "metadata": {},
     "output_type": "execute_result"
    }
   ],
   "source": [
    "df2['date_time'].max()"
   ]
  },
  {
   "cell_type": "code",
   "execution_count": 12,
   "id": "c8f47c7b",
   "metadata": {},
   "outputs": [],
   "source": [
    "df_datetime = df2[['date_time']]"
   ]
  },
  {
   "cell_type": "code",
   "execution_count": 13,
   "id": "16d7854b",
   "metadata": {},
   "outputs": [
    {
     "data": {
      "text/html": [
       "<div>\n",
       "<style scoped>\n",
       "    .dataframe tbody tr th:only-of-type {\n",
       "        vertical-align: middle;\n",
       "    }\n",
       "\n",
       "    .dataframe tbody tr th {\n",
       "        vertical-align: top;\n",
       "    }\n",
       "\n",
       "    .dataframe thead th {\n",
       "        text-align: right;\n",
       "    }\n",
       "</style>\n",
       "<table border=\"1\" class=\"dataframe\">\n",
       "  <thead>\n",
       "    <tr style=\"text-align: right;\">\n",
       "      <th></th>\n",
       "      <th>date_time</th>\n",
       "    </tr>\n",
       "  </thead>\n",
       "  <tbody>\n",
       "    <tr>\n",
       "      <th>count</th>\n",
       "      <td>782</td>\n",
       "    </tr>\n",
       "    <tr>\n",
       "      <th>unique</th>\n",
       "      <td>773</td>\n",
       "    </tr>\n",
       "    <tr>\n",
       "      <th>top</th>\n",
       "      <td>11-01-2022 11:35</td>\n",
       "    </tr>\n",
       "    <tr>\n",
       "      <th>freq</th>\n",
       "      <td>3</td>\n",
       "    </tr>\n",
       "  </tbody>\n",
       "</table>\n",
       "</div>"
      ],
      "text/plain": [
       "               date_time\n",
       "count                782\n",
       "unique               773\n",
       "top     11-01-2022 11:35\n",
       "freq                   3"
      ]
     },
     "execution_count": 13,
     "metadata": {},
     "output_type": "execute_result"
    }
   ],
   "source": [
    "df_datetime.describe()"
   ]
  },
  {
   "cell_type": "code",
   "execution_count": 14,
   "id": "9d7b1133",
   "metadata": {},
   "outputs": [
    {
     "name": "stdout",
     "output_type": "stream",
     "text": [
      "<class 'pandas.core.frame.DataFrame'>\n",
      "RangeIndex: 782 entries, 0 to 781\n",
      "Data columns (total 12 columns):\n",
      " #   Column     Non-Null Count  Dtype  \n",
      "---  ------     --------------  -----  \n",
      " 0   title      782 non-null    object \n",
      " 1   magnitude  782 non-null    float64\n",
      " 2   date_time  782 non-null    object \n",
      " 3   alert      415 non-null    object \n",
      " 4   tsunami    782 non-null    int64  \n",
      " 5   nst        782 non-null    int64  \n",
      " 6   depth      782 non-null    float64\n",
      " 7   latitude   782 non-null    float64\n",
      " 8   longitude  782 non-null    float64\n",
      " 9   location   777 non-null    object \n",
      " 10  continent  206 non-null    object \n",
      " 11  country    484 non-null    object \n",
      "dtypes: float64(4), int64(2), object(6)\n",
      "memory usage: 73.4+ KB\n"
     ]
    }
   ],
   "source": [
    "df2.info()"
   ]
  },
  {
   "cell_type": "code",
   "execution_count": 15,
   "id": "2aef314b",
   "metadata": {},
   "outputs": [
    {
     "data": {
      "text/plain": [
       "dtype('O')"
      ]
     },
     "execution_count": 15,
     "metadata": {},
     "output_type": "execute_result"
    }
   ],
   "source": [
    "df2['date_time'].dtypes"
   ]
  },
  {
   "cell_type": "code",
   "execution_count": 17,
   "id": "a86f3d27",
   "metadata": {},
   "outputs": [
    {
     "name": "stderr",
     "output_type": "stream",
     "text": [
      "/var/folders/5n/x9wtpy7x0nz5qk_by1cbdbk40000gp/T/ipykernel_44114/845880385.py:2: SettingWithCopyWarning: \n",
      "A value is trying to be set on a copy of a slice from a DataFrame.\n",
      "Try using .loc[row_indexer,col_indexer] = value instead\n",
      "\n",
      "See the caveats in the documentation: https://pandas.pydata.org/pandas-docs/stable/user_guide/indexing.html#returning-a-view-versus-a-copy\n",
      "  df2['date_parsed'] = pd.to_datetime(df2['date_time'])\n"
     ]
    }
   ],
   "source": [
    "# create a new column, date_parsed, with the parsed dates\n",
    "df2['date_parsed'] = pd.to_datetime(df2['date_time'])"
   ]
  },
  {
   "cell_type": "code",
   "execution_count": 18,
   "id": "3c60bb82",
   "metadata": {},
   "outputs": [
    {
     "data": {
      "text/html": [
       "<div>\n",
       "<style scoped>\n",
       "    .dataframe tbody tr th:only-of-type {\n",
       "        vertical-align: middle;\n",
       "    }\n",
       "\n",
       "    .dataframe tbody tr th {\n",
       "        vertical-align: top;\n",
       "    }\n",
       "\n",
       "    .dataframe thead th {\n",
       "        text-align: right;\n",
       "    }\n",
       "</style>\n",
       "<table border=\"1\" class=\"dataframe\">\n",
       "  <thead>\n",
       "    <tr style=\"text-align: right;\">\n",
       "      <th></th>\n",
       "      <th>title</th>\n",
       "      <th>magnitude</th>\n",
       "      <th>date_time</th>\n",
       "      <th>alert</th>\n",
       "      <th>tsunami</th>\n",
       "      <th>nst</th>\n",
       "      <th>depth</th>\n",
       "      <th>latitude</th>\n",
       "      <th>longitude</th>\n",
       "      <th>location</th>\n",
       "      <th>continent</th>\n",
       "      <th>country</th>\n",
       "      <th>date_parsed</th>\n",
       "    </tr>\n",
       "  </thead>\n",
       "  <tbody>\n",
       "    <tr>\n",
       "      <th>0</th>\n",
       "      <td>M 7.0 - 18 km SW of Malango, Solomon Islands</td>\n",
       "      <td>7.0</td>\n",
       "      <td>22-11-2022 02:03</td>\n",
       "      <td>green</td>\n",
       "      <td>1</td>\n",
       "      <td>117</td>\n",
       "      <td>14.000</td>\n",
       "      <td>-9.7963</td>\n",
       "      <td>159.596</td>\n",
       "      <td>Malango, Solomon Islands</td>\n",
       "      <td>Oceania</td>\n",
       "      <td>Solomon Islands</td>\n",
       "      <td>2022-11-22 02:03:00</td>\n",
       "    </tr>\n",
       "    <tr>\n",
       "      <th>1</th>\n",
       "      <td>M 6.9 - 204 km SW of Bengkulu, Indonesia</td>\n",
       "      <td>6.9</td>\n",
       "      <td>18-11-2022 13:37</td>\n",
       "      <td>green</td>\n",
       "      <td>0</td>\n",
       "      <td>99</td>\n",
       "      <td>25.000</td>\n",
       "      <td>-4.9559</td>\n",
       "      <td>100.738</td>\n",
       "      <td>Bengkulu, Indonesia</td>\n",
       "      <td>NaN</td>\n",
       "      <td>NaN</td>\n",
       "      <td>2022-11-18 13:37:00</td>\n",
       "    </tr>\n",
       "    <tr>\n",
       "      <th>2</th>\n",
       "      <td>M 7.0 -</td>\n",
       "      <td>7.0</td>\n",
       "      <td>12-11-2022 07:09</td>\n",
       "      <td>green</td>\n",
       "      <td>1</td>\n",
       "      <td>147</td>\n",
       "      <td>579.000</td>\n",
       "      <td>-20.0508</td>\n",
       "      <td>-178.346</td>\n",
       "      <td>NaN</td>\n",
       "      <td>Oceania</td>\n",
       "      <td>Fiji</td>\n",
       "      <td>2022-12-11 07:09:00</td>\n",
       "    </tr>\n",
       "    <tr>\n",
       "      <th>3</th>\n",
       "      <td>M 7.3 - 205 km ESE of Neiafu, Tonga</td>\n",
       "      <td>7.3</td>\n",
       "      <td>11-11-2022 10:48</td>\n",
       "      <td>green</td>\n",
       "      <td>1</td>\n",
       "      <td>149</td>\n",
       "      <td>37.000</td>\n",
       "      <td>-19.2918</td>\n",
       "      <td>-172.129</td>\n",
       "      <td>Neiafu, Tonga</td>\n",
       "      <td>NaN</td>\n",
       "      <td>NaN</td>\n",
       "      <td>2022-11-11 10:48:00</td>\n",
       "    </tr>\n",
       "    <tr>\n",
       "      <th>4</th>\n",
       "      <td>M 6.6 -</td>\n",
       "      <td>6.6</td>\n",
       "      <td>09-11-2022 10:14</td>\n",
       "      <td>green</td>\n",
       "      <td>1</td>\n",
       "      <td>131</td>\n",
       "      <td>624.464</td>\n",
       "      <td>-25.5948</td>\n",
       "      <td>178.278</td>\n",
       "      <td>NaN</td>\n",
       "      <td>NaN</td>\n",
       "      <td>NaN</td>\n",
       "      <td>2022-09-11 10:14:00</td>\n",
       "    </tr>\n",
       "  </tbody>\n",
       "</table>\n",
       "</div>"
      ],
      "text/plain": [
       "                                          title  magnitude         date_time  \\\n",
       "0  M 7.0 - 18 km SW of Malango, Solomon Islands        7.0  22-11-2022 02:03   \n",
       "1      M 6.9 - 204 km SW of Bengkulu, Indonesia        6.9  18-11-2022 13:37   \n",
       "2                                      M 7.0 -         7.0  12-11-2022 07:09   \n",
       "3           M 7.3 - 205 km ESE of Neiafu, Tonga        7.3  11-11-2022 10:48   \n",
       "4                                      M 6.6 -         6.6  09-11-2022 10:14   \n",
       "\n",
       "   alert  tsunami  nst    depth  latitude  longitude  \\\n",
       "0  green        1  117   14.000   -9.7963    159.596   \n",
       "1  green        0   99   25.000   -4.9559    100.738   \n",
       "2  green        1  147  579.000  -20.0508   -178.346   \n",
       "3  green        1  149   37.000  -19.2918   -172.129   \n",
       "4  green        1  131  624.464  -25.5948    178.278   \n",
       "\n",
       "                   location continent          country         date_parsed  \n",
       "0  Malango, Solomon Islands   Oceania  Solomon Islands 2022-11-22 02:03:00  \n",
       "1       Bengkulu, Indonesia       NaN              NaN 2022-11-18 13:37:00  \n",
       "2                       NaN   Oceania             Fiji 2022-12-11 07:09:00  \n",
       "3             Neiafu, Tonga       NaN              NaN 2022-11-11 10:48:00  \n",
       "4                       NaN       NaN              NaN 2022-09-11 10:14:00  "
      ]
     },
     "execution_count": 18,
     "metadata": {},
     "output_type": "execute_result"
    }
   ],
   "source": [
    "df2.head()"
   ]
  },
  {
   "cell_type": "code",
   "execution_count": 19,
   "id": "cd4f8a1c",
   "metadata": {},
   "outputs": [
    {
     "name": "stderr",
     "output_type": "stream",
     "text": [
      "/var/folders/5n/x9wtpy7x0nz5qk_by1cbdbk40000gp/T/ipykernel_44114/3868645672.py:1: SettingWithCopyWarning: \n",
      "A value is trying to be set on a copy of a slice from a DataFrame.\n",
      "Try using .loc[row_indexer,col_indexer] = value instead\n",
      "\n",
      "See the caveats in the documentation: https://pandas.pydata.org/pandas-docs/stable/user_guide/indexing.html#returning-a-view-versus-a-copy\n",
      "  df2['date_parsed'] = df2['date_parsed'].dt.date\n"
     ]
    }
   ],
   "source": [
    "df2['date_parsed'] = df2['date_parsed'].dt.date"
   ]
  },
  {
   "cell_type": "code",
   "execution_count": 20,
   "id": "a3b73090",
   "metadata": {},
   "outputs": [
    {
     "data": {
      "text/html": [
       "<div>\n",
       "<style scoped>\n",
       "    .dataframe tbody tr th:only-of-type {\n",
       "        vertical-align: middle;\n",
       "    }\n",
       "\n",
       "    .dataframe tbody tr th {\n",
       "        vertical-align: top;\n",
       "    }\n",
       "\n",
       "    .dataframe thead th {\n",
       "        text-align: right;\n",
       "    }\n",
       "</style>\n",
       "<table border=\"1\" class=\"dataframe\">\n",
       "  <thead>\n",
       "    <tr style=\"text-align: right;\">\n",
       "      <th></th>\n",
       "      <th>title</th>\n",
       "      <th>magnitude</th>\n",
       "      <th>date_time</th>\n",
       "      <th>alert</th>\n",
       "      <th>tsunami</th>\n",
       "      <th>nst</th>\n",
       "      <th>depth</th>\n",
       "      <th>latitude</th>\n",
       "      <th>longitude</th>\n",
       "      <th>location</th>\n",
       "      <th>continent</th>\n",
       "      <th>country</th>\n",
       "      <th>date_parsed</th>\n",
       "    </tr>\n",
       "  </thead>\n",
       "  <tbody>\n",
       "    <tr>\n",
       "      <th>0</th>\n",
       "      <td>M 7.0 - 18 km SW of Malango, Solomon Islands</td>\n",
       "      <td>7.0</td>\n",
       "      <td>22-11-2022 02:03</td>\n",
       "      <td>green</td>\n",
       "      <td>1</td>\n",
       "      <td>117</td>\n",
       "      <td>14.000</td>\n",
       "      <td>-9.7963</td>\n",
       "      <td>159.596</td>\n",
       "      <td>Malango, Solomon Islands</td>\n",
       "      <td>Oceania</td>\n",
       "      <td>Solomon Islands</td>\n",
       "      <td>2022-11-22</td>\n",
       "    </tr>\n",
       "    <tr>\n",
       "      <th>1</th>\n",
       "      <td>M 6.9 - 204 km SW of Bengkulu, Indonesia</td>\n",
       "      <td>6.9</td>\n",
       "      <td>18-11-2022 13:37</td>\n",
       "      <td>green</td>\n",
       "      <td>0</td>\n",
       "      <td>99</td>\n",
       "      <td>25.000</td>\n",
       "      <td>-4.9559</td>\n",
       "      <td>100.738</td>\n",
       "      <td>Bengkulu, Indonesia</td>\n",
       "      <td>NaN</td>\n",
       "      <td>NaN</td>\n",
       "      <td>2022-11-18</td>\n",
       "    </tr>\n",
       "    <tr>\n",
       "      <th>2</th>\n",
       "      <td>M 7.0 -</td>\n",
       "      <td>7.0</td>\n",
       "      <td>12-11-2022 07:09</td>\n",
       "      <td>green</td>\n",
       "      <td>1</td>\n",
       "      <td>147</td>\n",
       "      <td>579.000</td>\n",
       "      <td>-20.0508</td>\n",
       "      <td>-178.346</td>\n",
       "      <td>NaN</td>\n",
       "      <td>Oceania</td>\n",
       "      <td>Fiji</td>\n",
       "      <td>2022-12-11</td>\n",
       "    </tr>\n",
       "    <tr>\n",
       "      <th>3</th>\n",
       "      <td>M 7.3 - 205 km ESE of Neiafu, Tonga</td>\n",
       "      <td>7.3</td>\n",
       "      <td>11-11-2022 10:48</td>\n",
       "      <td>green</td>\n",
       "      <td>1</td>\n",
       "      <td>149</td>\n",
       "      <td>37.000</td>\n",
       "      <td>-19.2918</td>\n",
       "      <td>-172.129</td>\n",
       "      <td>Neiafu, Tonga</td>\n",
       "      <td>NaN</td>\n",
       "      <td>NaN</td>\n",
       "      <td>2022-11-11</td>\n",
       "    </tr>\n",
       "    <tr>\n",
       "      <th>4</th>\n",
       "      <td>M 6.6 -</td>\n",
       "      <td>6.6</td>\n",
       "      <td>09-11-2022 10:14</td>\n",
       "      <td>green</td>\n",
       "      <td>1</td>\n",
       "      <td>131</td>\n",
       "      <td>624.464</td>\n",
       "      <td>-25.5948</td>\n",
       "      <td>178.278</td>\n",
       "      <td>NaN</td>\n",
       "      <td>NaN</td>\n",
       "      <td>NaN</td>\n",
       "      <td>2022-09-11</td>\n",
       "    </tr>\n",
       "  </tbody>\n",
       "</table>\n",
       "</div>"
      ],
      "text/plain": [
       "                                          title  magnitude         date_time  \\\n",
       "0  M 7.0 - 18 km SW of Malango, Solomon Islands        7.0  22-11-2022 02:03   \n",
       "1      M 6.9 - 204 km SW of Bengkulu, Indonesia        6.9  18-11-2022 13:37   \n",
       "2                                      M 7.0 -         7.0  12-11-2022 07:09   \n",
       "3           M 7.3 - 205 km ESE of Neiafu, Tonga        7.3  11-11-2022 10:48   \n",
       "4                                      M 6.6 -         6.6  09-11-2022 10:14   \n",
       "\n",
       "   alert  tsunami  nst    depth  latitude  longitude  \\\n",
       "0  green        1  117   14.000   -9.7963    159.596   \n",
       "1  green        0   99   25.000   -4.9559    100.738   \n",
       "2  green        1  147  579.000  -20.0508   -178.346   \n",
       "3  green        1  149   37.000  -19.2918   -172.129   \n",
       "4  green        1  131  624.464  -25.5948    178.278   \n",
       "\n",
       "                   location continent          country date_parsed  \n",
       "0  Malango, Solomon Islands   Oceania  Solomon Islands  2022-11-22  \n",
       "1       Bengkulu, Indonesia       NaN              NaN  2022-11-18  \n",
       "2                       NaN   Oceania             Fiji  2022-12-11  \n",
       "3             Neiafu, Tonga       NaN              NaN  2022-11-11  \n",
       "4                       NaN       NaN              NaN  2022-09-11  "
      ]
     },
     "execution_count": 20,
     "metadata": {},
     "output_type": "execute_result"
    }
   ],
   "source": [
    "df2.head()"
   ]
  },
  {
   "cell_type": "code",
   "execution_count": 21,
   "id": "dead094f",
   "metadata": {},
   "outputs": [
    {
     "data": {
      "text/plain": [
       "673"
      ]
     },
     "execution_count": 21,
     "metadata": {},
     "output_type": "execute_result"
    }
   ],
   "source": [
    "len(df2['date_parsed'].unique())"
   ]
  },
  {
   "cell_type": "code",
   "execution_count": 22,
   "id": "8911f14b",
   "metadata": {},
   "outputs": [],
   "source": [
    "df_dateparsed = df2[['date_parsed']]"
   ]
  },
  {
   "cell_type": "code",
   "execution_count": 23,
   "id": "16782355",
   "metadata": {},
   "outputs": [
    {
     "data": {
      "text/html": [
       "<div>\n",
       "<style scoped>\n",
       "    .dataframe tbody tr th:only-of-type {\n",
       "        vertical-align: middle;\n",
       "    }\n",
       "\n",
       "    .dataframe tbody tr th {\n",
       "        vertical-align: top;\n",
       "    }\n",
       "\n",
       "    .dataframe thead th {\n",
       "        text-align: right;\n",
       "    }\n",
       "</style>\n",
       "<table border=\"1\" class=\"dataframe\">\n",
       "  <thead>\n",
       "    <tr style=\"text-align: right;\">\n",
       "      <th></th>\n",
       "      <th>date_parsed</th>\n",
       "    </tr>\n",
       "  </thead>\n",
       "  <tbody>\n",
       "    <tr>\n",
       "      <th>count</th>\n",
       "      <td>782</td>\n",
       "    </tr>\n",
       "    <tr>\n",
       "      <th>unique</th>\n",
       "      <td>673</td>\n",
       "    </tr>\n",
       "    <tr>\n",
       "      <th>top</th>\n",
       "      <td>2022-11-01</td>\n",
       "    </tr>\n",
       "    <tr>\n",
       "      <th>freq</th>\n",
       "      <td>7</td>\n",
       "    </tr>\n",
       "  </tbody>\n",
       "</table>\n",
       "</div>"
      ],
      "text/plain": [
       "       date_parsed\n",
       "count          782\n",
       "unique         673\n",
       "top     2022-11-01\n",
       "freq             7"
      ]
     },
     "execution_count": 23,
     "metadata": {},
     "output_type": "execute_result"
    }
   ],
   "source": [
    "df_dateparsed.describe()"
   ]
  },
  {
   "cell_type": "code",
   "execution_count": 24,
   "id": "481afb59",
   "metadata": {},
   "outputs": [
    {
     "name": "stdout",
     "output_type": "stream",
     "text": [
      "<class 'pandas.core.frame.DataFrame'>\n",
      "RangeIndex: 782 entries, 0 to 781\n",
      "Data columns (total 1 columns):\n",
      " #   Column       Non-Null Count  Dtype \n",
      "---  ------       --------------  ----- \n",
      " 0   date_parsed  782 non-null    object\n",
      "dtypes: object(1)\n",
      "memory usage: 6.2+ KB\n"
     ]
    }
   ],
   "source": [
    "df_dateparsed.info()"
   ]
  },
  {
   "cell_type": "code",
   "execution_count": 25,
   "id": "ae9310ee",
   "metadata": {},
   "outputs": [
    {
     "data": {
      "text/plain": [
       "datetime.date(2001, 1, 1)"
      ]
     },
     "execution_count": 25,
     "metadata": {},
     "output_type": "execute_result"
    }
   ],
   "source": [
    "df_dateparsed['date_parsed'].min()"
   ]
  },
  {
   "cell_type": "code",
   "execution_count": 26,
   "id": "1b717447",
   "metadata": {},
   "outputs": [
    {
     "data": {
      "text/plain": [
       "datetime.date(2022, 12, 11)"
      ]
     },
     "execution_count": 26,
     "metadata": {},
     "output_type": "execute_result"
    }
   ],
   "source": [
    "df_dateparsed['date_parsed'].max()"
   ]
  },
  {
   "cell_type": "code",
   "execution_count": 27,
   "id": "38f94248",
   "metadata": {},
   "outputs": [
    {
     "data": {
      "text/html": [
       "<div>\n",
       "<style scoped>\n",
       "    .dataframe tbody tr th:only-of-type {\n",
       "        vertical-align: middle;\n",
       "    }\n",
       "\n",
       "    .dataframe tbody tr th {\n",
       "        vertical-align: top;\n",
       "    }\n",
       "\n",
       "    .dataframe thead th {\n",
       "        text-align: right;\n",
       "    }\n",
       "</style>\n",
       "<table border=\"1\" class=\"dataframe\">\n",
       "  <thead>\n",
       "    <tr style=\"text-align: right;\">\n",
       "      <th></th>\n",
       "      <th>date_parsed</th>\n",
       "    </tr>\n",
       "  </thead>\n",
       "  <tbody>\n",
       "    <tr>\n",
       "      <th>0</th>\n",
       "      <td>2022-11-22</td>\n",
       "    </tr>\n",
       "    <tr>\n",
       "      <th>1</th>\n",
       "      <td>2022-11-18</td>\n",
       "    </tr>\n",
       "    <tr>\n",
       "      <th>2</th>\n",
       "      <td>2022-12-11</td>\n",
       "    </tr>\n",
       "    <tr>\n",
       "      <th>3</th>\n",
       "      <td>2022-11-11</td>\n",
       "    </tr>\n",
       "    <tr>\n",
       "      <th>4</th>\n",
       "      <td>2022-09-11</td>\n",
       "    </tr>\n",
       "    <tr>\n",
       "      <th>5</th>\n",
       "      <td>2022-09-11</td>\n",
       "    </tr>\n",
       "    <tr>\n",
       "      <th>6</th>\n",
       "      <td>2022-09-11</td>\n",
       "    </tr>\n",
       "    <tr>\n",
       "      <th>7</th>\n",
       "      <td>2022-10-20</td>\n",
       "    </tr>\n",
       "    <tr>\n",
       "      <th>8</th>\n",
       "      <td>2022-09-22</td>\n",
       "    </tr>\n",
       "    <tr>\n",
       "      <th>9</th>\n",
       "      <td>2022-09-19</td>\n",
       "    </tr>\n",
       "    <tr>\n",
       "      <th>10</th>\n",
       "      <td>2022-09-18</td>\n",
       "    </tr>\n",
       "    <tr>\n",
       "      <th>11</th>\n",
       "      <td>2022-09-17</td>\n",
       "    </tr>\n",
       "    <tr>\n",
       "      <th>12</th>\n",
       "      <td>2022-09-14</td>\n",
       "    </tr>\n",
       "    <tr>\n",
       "      <th>13</th>\n",
       "      <td>2022-10-09</td>\n",
       "    </tr>\n",
       "    <tr>\n",
       "      <th>14</th>\n",
       "      <td>2022-05-09</td>\n",
       "    </tr>\n",
       "    <tr>\n",
       "      <th>15</th>\n",
       "      <td>2022-08-14</td>\n",
       "    </tr>\n",
       "    <tr>\n",
       "      <th>16</th>\n",
       "      <td>2022-07-27</td>\n",
       "    </tr>\n",
       "    <tr>\n",
       "      <th>17</th>\n",
       "      <td>2022-08-06</td>\n",
       "    </tr>\n",
       "    <tr>\n",
       "      <th>18</th>\n",
       "      <td>2022-05-26</td>\n",
       "    </tr>\n",
       "    <tr>\n",
       "      <th>19</th>\n",
       "      <td>2022-05-19</td>\n",
       "    </tr>\n",
       "    <tr>\n",
       "      <th>20</th>\n",
       "      <td>2022-10-05</td>\n",
       "    </tr>\n",
       "    <tr>\n",
       "      <th>21</th>\n",
       "      <td>2022-04-21</td>\n",
       "    </tr>\n",
       "    <tr>\n",
       "      <th>22</th>\n",
       "      <td>2022-03-31</td>\n",
       "    </tr>\n",
       "    <tr>\n",
       "      <th>23</th>\n",
       "      <td>2022-03-30</td>\n",
       "    </tr>\n",
       "    <tr>\n",
       "      <th>24</th>\n",
       "      <td>2022-03-22</td>\n",
       "    </tr>\n",
       "    <tr>\n",
       "      <th>25</th>\n",
       "      <td>2022-03-16</td>\n",
       "    </tr>\n",
       "    <tr>\n",
       "      <th>26</th>\n",
       "      <td>2022-03-13</td>\n",
       "    </tr>\n",
       "    <tr>\n",
       "      <th>27</th>\n",
       "      <td>2022-02-03</td>\n",
       "    </tr>\n",
       "    <tr>\n",
       "      <th>28</th>\n",
       "      <td>2022-02-16</td>\n",
       "    </tr>\n",
       "    <tr>\n",
       "      <th>29</th>\n",
       "      <td>2022-03-02</td>\n",
       "    </tr>\n",
       "  </tbody>\n",
       "</table>\n",
       "</div>"
      ],
      "text/plain": [
       "   date_parsed\n",
       "0   2022-11-22\n",
       "1   2022-11-18\n",
       "2   2022-12-11\n",
       "3   2022-11-11\n",
       "4   2022-09-11\n",
       "5   2022-09-11\n",
       "6   2022-09-11\n",
       "7   2022-10-20\n",
       "8   2022-09-22\n",
       "9   2022-09-19\n",
       "10  2022-09-18\n",
       "11  2022-09-17\n",
       "12  2022-09-14\n",
       "13  2022-10-09\n",
       "14  2022-05-09\n",
       "15  2022-08-14\n",
       "16  2022-07-27\n",
       "17  2022-08-06\n",
       "18  2022-05-26\n",
       "19  2022-05-19\n",
       "20  2022-10-05\n",
       "21  2022-04-21\n",
       "22  2022-03-31\n",
       "23  2022-03-30\n",
       "24  2022-03-22\n",
       "25  2022-03-16\n",
       "26  2022-03-13\n",
       "27  2022-02-03\n",
       "28  2022-02-16\n",
       "29  2022-03-02"
      ]
     },
     "execution_count": 27,
     "metadata": {},
     "output_type": "execute_result"
    }
   ],
   "source": [
    "df_dateparsed.head(30)"
   ]
  },
  {
   "cell_type": "code",
   "execution_count": 28,
   "id": "20544eb2",
   "metadata": {},
   "outputs": [
    {
     "name": "stderr",
     "output_type": "stream",
     "text": [
      "/Users/j/opt/anaconda3/lib/python3.9/site-packages/pandas/core/frame.py:4906: SettingWithCopyWarning: \n",
      "A value is trying to be set on a copy of a slice from a DataFrame\n",
      "\n",
      "See the caveats in the documentation: https://pandas.pydata.org/pandas-docs/stable/user_guide/indexing.html#returning-a-view-versus-a-copy\n",
      "  return super().drop(\n"
     ]
    }
   ],
   "source": [
    "df2.drop('alert',axis=1, inplace=True)"
   ]
  },
  {
   "cell_type": "code",
   "execution_count": 29,
   "id": "be634602",
   "metadata": {},
   "outputs": [
    {
     "data": {
      "text/plain": [
       "(782, 12)"
      ]
     },
     "execution_count": 29,
     "metadata": {},
     "output_type": "execute_result"
    }
   ],
   "source": [
    "df2.shape"
   ]
  },
  {
   "cell_type": "code",
   "execution_count": 30,
   "id": "01396198",
   "metadata": {},
   "outputs": [
    {
     "data": {
      "text/html": [
       "<div>\n",
       "<style scoped>\n",
       "    .dataframe tbody tr th:only-of-type {\n",
       "        vertical-align: middle;\n",
       "    }\n",
       "\n",
       "    .dataframe tbody tr th {\n",
       "        vertical-align: top;\n",
       "    }\n",
       "\n",
       "    .dataframe thead th {\n",
       "        text-align: right;\n",
       "    }\n",
       "</style>\n",
       "<table border=\"1\" class=\"dataframe\">\n",
       "  <thead>\n",
       "    <tr style=\"text-align: right;\">\n",
       "      <th></th>\n",
       "      <th>title</th>\n",
       "      <th>magnitude</th>\n",
       "      <th>date_time</th>\n",
       "      <th>tsunami</th>\n",
       "      <th>nst</th>\n",
       "      <th>depth</th>\n",
       "      <th>latitude</th>\n",
       "      <th>longitude</th>\n",
       "      <th>location</th>\n",
       "      <th>continent</th>\n",
       "      <th>country</th>\n",
       "      <th>date_parsed</th>\n",
       "    </tr>\n",
       "  </thead>\n",
       "  <tbody>\n",
       "    <tr>\n",
       "      <th>0</th>\n",
       "      <td>M 7.0 - 18 km SW of Malango, Solomon Islands</td>\n",
       "      <td>7.0</td>\n",
       "      <td>22-11-2022 02:03</td>\n",
       "      <td>1</td>\n",
       "      <td>117</td>\n",
       "      <td>14.000</td>\n",
       "      <td>-9.7963</td>\n",
       "      <td>159.596</td>\n",
       "      <td>Malango, Solomon Islands</td>\n",
       "      <td>Oceania</td>\n",
       "      <td>Solomon Islands</td>\n",
       "      <td>2022-11-22</td>\n",
       "    </tr>\n",
       "    <tr>\n",
       "      <th>1</th>\n",
       "      <td>M 6.9 - 204 km SW of Bengkulu, Indonesia</td>\n",
       "      <td>6.9</td>\n",
       "      <td>18-11-2022 13:37</td>\n",
       "      <td>0</td>\n",
       "      <td>99</td>\n",
       "      <td>25.000</td>\n",
       "      <td>-4.9559</td>\n",
       "      <td>100.738</td>\n",
       "      <td>Bengkulu, Indonesia</td>\n",
       "      <td>NaN</td>\n",
       "      <td>NaN</td>\n",
       "      <td>2022-11-18</td>\n",
       "    </tr>\n",
       "    <tr>\n",
       "      <th>2</th>\n",
       "      <td>M 7.0 -</td>\n",
       "      <td>7.0</td>\n",
       "      <td>12-11-2022 07:09</td>\n",
       "      <td>1</td>\n",
       "      <td>147</td>\n",
       "      <td>579.000</td>\n",
       "      <td>-20.0508</td>\n",
       "      <td>-178.346</td>\n",
       "      <td>NaN</td>\n",
       "      <td>Oceania</td>\n",
       "      <td>Fiji</td>\n",
       "      <td>2022-12-11</td>\n",
       "    </tr>\n",
       "    <tr>\n",
       "      <th>3</th>\n",
       "      <td>M 7.3 - 205 km ESE of Neiafu, Tonga</td>\n",
       "      <td>7.3</td>\n",
       "      <td>11-11-2022 10:48</td>\n",
       "      <td>1</td>\n",
       "      <td>149</td>\n",
       "      <td>37.000</td>\n",
       "      <td>-19.2918</td>\n",
       "      <td>-172.129</td>\n",
       "      <td>Neiafu, Tonga</td>\n",
       "      <td>NaN</td>\n",
       "      <td>NaN</td>\n",
       "      <td>2022-11-11</td>\n",
       "    </tr>\n",
       "    <tr>\n",
       "      <th>4</th>\n",
       "      <td>M 6.6 -</td>\n",
       "      <td>6.6</td>\n",
       "      <td>09-11-2022 10:14</td>\n",
       "      <td>1</td>\n",
       "      <td>131</td>\n",
       "      <td>624.464</td>\n",
       "      <td>-25.5948</td>\n",
       "      <td>178.278</td>\n",
       "      <td>NaN</td>\n",
       "      <td>NaN</td>\n",
       "      <td>NaN</td>\n",
       "      <td>2022-09-11</td>\n",
       "    </tr>\n",
       "  </tbody>\n",
       "</table>\n",
       "</div>"
      ],
      "text/plain": [
       "                                          title  magnitude         date_time  \\\n",
       "0  M 7.0 - 18 km SW of Malango, Solomon Islands        7.0  22-11-2022 02:03   \n",
       "1      M 6.9 - 204 km SW of Bengkulu, Indonesia        6.9  18-11-2022 13:37   \n",
       "2                                      M 7.0 -         7.0  12-11-2022 07:09   \n",
       "3           M 7.3 - 205 km ESE of Neiafu, Tonga        7.3  11-11-2022 10:48   \n",
       "4                                      M 6.6 -         6.6  09-11-2022 10:14   \n",
       "\n",
       "   tsunami  nst    depth  latitude  longitude                  location  \\\n",
       "0        1  117   14.000   -9.7963    159.596  Malango, Solomon Islands   \n",
       "1        0   99   25.000   -4.9559    100.738       Bengkulu, Indonesia   \n",
       "2        1  147  579.000  -20.0508   -178.346                       NaN   \n",
       "3        1  149   37.000  -19.2918   -172.129             Neiafu, Tonga   \n",
       "4        1  131  624.464  -25.5948    178.278                       NaN   \n",
       "\n",
       "  continent          country date_parsed  \n",
       "0   Oceania  Solomon Islands  2022-11-22  \n",
       "1       NaN              NaN  2022-11-18  \n",
       "2   Oceania             Fiji  2022-12-11  \n",
       "3       NaN              NaN  2022-11-11  \n",
       "4       NaN              NaN  2022-09-11  "
      ]
     },
     "execution_count": 30,
     "metadata": {},
     "output_type": "execute_result"
    }
   ],
   "source": [
    "df2.head()"
   ]
  },
  {
   "cell_type": "code",
   "execution_count": 31,
   "id": "33f24efa",
   "metadata": {},
   "outputs": [],
   "source": [
    "nan_count_A = df2['country'].isna().sum()"
   ]
  },
  {
   "cell_type": "code",
   "execution_count": 32,
   "id": "06aa5876",
   "metadata": {},
   "outputs": [
    {
     "data": {
      "text/plain": [
       "298"
      ]
     },
     "execution_count": 32,
     "metadata": {},
     "output_type": "execute_result"
    }
   ],
   "source": [
    "nan_count_A"
   ]
  },
  {
   "cell_type": "code",
   "execution_count": 33,
   "id": "a33835fc",
   "metadata": {},
   "outputs": [
    {
     "data": {
      "text/plain": [
       "5"
      ]
     },
     "execution_count": 33,
     "metadata": {},
     "output_type": "execute_result"
    }
   ],
   "source": [
    "nan_count_B = df2['location'].isna().sum()\n",
    "nan_count_B"
   ]
  },
  {
   "cell_type": "code",
   "execution_count": 34,
   "id": "22de6126",
   "metadata": {},
   "outputs": [],
   "source": [
    "# df2[\"country\"] = df2[\"country\"].fillna(\"unknown\")"
   ]
  },
  {
   "cell_type": "code",
   "execution_count": 35,
   "id": "0b19bc25",
   "metadata": {},
   "outputs": [
    {
     "data": {
      "text/plain": [
       "0"
      ]
     },
     "execution_count": 35,
     "metadata": {},
     "output_type": "execute_result"
    }
   ],
   "source": [
    "nan_count_C = df2['longitude'].isna().sum()\n",
    "nan_count_C"
   ]
  },
  {
   "cell_type": "code",
   "execution_count": 36,
   "id": "71a291c9",
   "metadata": {},
   "outputs": [
    {
     "name": "stdout",
     "output_type": "stream",
     "text": [
      "\n",
      " Missing values in the country column are :  295\n"
     ]
    }
   ],
   "source": [
    "df_country = df2.dropna(subset=['country','location','continent'], how='all')\n",
    "print('\\n', 'Missing values in the country column are : ', df_country['country'].isnull().sum())"
   ]
  },
  {
   "cell_type": "code",
   "execution_count": 38,
   "id": "32bc2605",
   "metadata": {},
   "outputs": [
    {
     "data": {
      "text/html": [
       "<div>\n",
       "<style scoped>\n",
       "    .dataframe tbody tr th:only-of-type {\n",
       "        vertical-align: middle;\n",
       "    }\n",
       "\n",
       "    .dataframe tbody tr th {\n",
       "        vertical-align: top;\n",
       "    }\n",
       "\n",
       "    .dataframe thead th {\n",
       "        text-align: right;\n",
       "    }\n",
       "</style>\n",
       "<table border=\"1\" class=\"dataframe\">\n",
       "  <thead>\n",
       "    <tr style=\"text-align: right;\">\n",
       "      <th></th>\n",
       "      <th>title</th>\n",
       "      <th>magnitude</th>\n",
       "      <th>date_time</th>\n",
       "      <th>tsunami</th>\n",
       "      <th>nst</th>\n",
       "      <th>depth</th>\n",
       "      <th>latitude</th>\n",
       "      <th>longitude</th>\n",
       "      <th>location</th>\n",
       "      <th>continent</th>\n",
       "      <th>country</th>\n",
       "      <th>date_parsed</th>\n",
       "    </tr>\n",
       "  </thead>\n",
       "  <tbody>\n",
       "    <tr>\n",
       "      <th>0</th>\n",
       "      <td>M 7.0 - 18 km SW of Malango, Solomon Islands</td>\n",
       "      <td>7.0</td>\n",
       "      <td>22-11-2022 02:03</td>\n",
       "      <td>1</td>\n",
       "      <td>117</td>\n",
       "      <td>14.000</td>\n",
       "      <td>-9.7963</td>\n",
       "      <td>159.596</td>\n",
       "      <td>Malango, Solomon Islands</td>\n",
       "      <td>Oceania</td>\n",
       "      <td>Solomon Islands</td>\n",
       "      <td>2022-11-22</td>\n",
       "    </tr>\n",
       "    <tr>\n",
       "      <th>1</th>\n",
       "      <td>M 6.9 - 204 km SW of Bengkulu, Indonesia</td>\n",
       "      <td>6.9</td>\n",
       "      <td>18-11-2022 13:37</td>\n",
       "      <td>0</td>\n",
       "      <td>99</td>\n",
       "      <td>25.000</td>\n",
       "      <td>-4.9559</td>\n",
       "      <td>100.738</td>\n",
       "      <td>Bengkulu, Indonesia</td>\n",
       "      <td>NaN</td>\n",
       "      <td>NaN</td>\n",
       "      <td>2022-11-18</td>\n",
       "    </tr>\n",
       "    <tr>\n",
       "      <th>2</th>\n",
       "      <td>M 7.0 -</td>\n",
       "      <td>7.0</td>\n",
       "      <td>12-11-2022 07:09</td>\n",
       "      <td>1</td>\n",
       "      <td>147</td>\n",
       "      <td>579.000</td>\n",
       "      <td>-20.0508</td>\n",
       "      <td>-178.346</td>\n",
       "      <td>NaN</td>\n",
       "      <td>Oceania</td>\n",
       "      <td>Fiji</td>\n",
       "      <td>2022-12-11</td>\n",
       "    </tr>\n",
       "    <tr>\n",
       "      <th>3</th>\n",
       "      <td>M 7.3 - 205 km ESE of Neiafu, Tonga</td>\n",
       "      <td>7.3</td>\n",
       "      <td>11-11-2022 10:48</td>\n",
       "      <td>1</td>\n",
       "      <td>149</td>\n",
       "      <td>37.000</td>\n",
       "      <td>-19.2918</td>\n",
       "      <td>-172.129</td>\n",
       "      <td>Neiafu, Tonga</td>\n",
       "      <td>NaN</td>\n",
       "      <td>NaN</td>\n",
       "      <td>2022-11-11</td>\n",
       "    </tr>\n",
       "    <tr>\n",
       "      <th>4</th>\n",
       "      <td>M 6.6 -</td>\n",
       "      <td>6.6</td>\n",
       "      <td>09-11-2022 10:14</td>\n",
       "      <td>1</td>\n",
       "      <td>131</td>\n",
       "      <td>624.464</td>\n",
       "      <td>-25.5948</td>\n",
       "      <td>178.278</td>\n",
       "      <td>NaN</td>\n",
       "      <td>NaN</td>\n",
       "      <td>NaN</td>\n",
       "      <td>2022-09-11</td>\n",
       "    </tr>\n",
       "  </tbody>\n",
       "</table>\n",
       "</div>"
      ],
      "text/plain": [
       "                                          title  magnitude         date_time  \\\n",
       "0  M 7.0 - 18 km SW of Malango, Solomon Islands        7.0  22-11-2022 02:03   \n",
       "1      M 6.9 - 204 km SW of Bengkulu, Indonesia        6.9  18-11-2022 13:37   \n",
       "2                                      M 7.0 -         7.0  12-11-2022 07:09   \n",
       "3           M 7.3 - 205 km ESE of Neiafu, Tonga        7.3  11-11-2022 10:48   \n",
       "4                                      M 6.6 -         6.6  09-11-2022 10:14   \n",
       "\n",
       "   tsunami  nst    depth  latitude  longitude                  location  \\\n",
       "0        1  117   14.000   -9.7963    159.596  Malango, Solomon Islands   \n",
       "1        0   99   25.000   -4.9559    100.738       Bengkulu, Indonesia   \n",
       "2        1  147  579.000  -20.0508   -178.346                       NaN   \n",
       "3        1  149   37.000  -19.2918   -172.129             Neiafu, Tonga   \n",
       "4        1  131  624.464  -25.5948    178.278                       NaN   \n",
       "\n",
       "  continent          country date_parsed  \n",
       "0   Oceania  Solomon Islands  2022-11-22  \n",
       "1       NaN              NaN  2022-11-18  \n",
       "2   Oceania             Fiji  2022-12-11  \n",
       "3       NaN              NaN  2022-11-11  \n",
       "4       NaN              NaN  2022-09-11  "
      ]
     },
     "execution_count": 38,
     "metadata": {},
     "output_type": "execute_result"
    }
   ],
   "source": [
    "df2.head()"
   ]
  },
  {
   "cell_type": "code",
   "execution_count": 39,
   "id": "c32badbc",
   "metadata": {},
   "outputs": [
    {
     "data": {
      "text/plain": [
       "array(['Solomon Islands', nan, 'Fiji region', 'Panama', 'Mexico',\n",
       "       'Taiwan', 'Papua New Guinea', 'CHINA', 'Philippines', 'Brazil',\n",
       "       'Peru', 'Argentina', 'Indonesia', 'USA', 'Antarctica',\n",
       "       'Vanuatu region', 'Haiti', 'Japan', 'Mongolia', 'Greece', 'Chile',\n",
       "       'Russia region', 'Turkey', 'UK', 'Ecuador',\n",
       "       'South Sandwich Islands region', 'Venezuela', 'Bolivia',\n",
       "       'Costa Rica', 'Iran', 'Guatemala', 'Botswana',\n",
       "       'New Zealand region', 'Italy', 'Myanmar', 'Afghanistan',\n",
       "       'India region', 'Tajikistan', 'Nepal', 'Nicaragua', 'Pakistan',\n",
       "       'Colombia', 'Canada', 'Tonga', 'Kyrgyzstan', 'Martinique',\n",
       "       'Mozambique', 'Tanzania', 'Algeria', 'El Salvador'], dtype=object)"
      ]
     },
     "execution_count": 39,
     "metadata": {},
     "output_type": "execute_result"
    }
   ],
   "source": [
    "## Now we refine the column, for analysing and visualising the data country-wise\n",
    "\n",
    "## First we remove all the extra spaces in the country column (in fact, the code will erase all the extra spaces across the dataset)\n",
    "df_country = df2[['country']]\n",
    "df_country = df_country.applymap(lambda x: x.strip() if isinstance(x, str) else x)\n",
    "\n",
    "## Next we refine some country names\n",
    "\n",
    "df_country.replace({'country': {\"the Fiji Islands\" : \"Fiji region\", \"Fiji\" : \"Fiji region\", \n",
    "                                \"the Kermadec Islands\" : \"New Zealand region\", \"the Loyalty Islands\" : \"New Caledonia\", \n",
    "                                \"Vanuatu\" : \"Vanuatu region\", \"South Sandwich Islands\" : \"South Sandwich Islands region\", \n",
    "                                \"South Georgia and the South Sandwich Islands\" : \"South Sandwich Islands region\", \n",
    "                                \"Prince Edward Islands region\" : \"Canada\", \"Okhotsk\" : \"Russia region\", \n",
    "                                \"off the west coast of northern Sumatra\" : \"Indonesia\", \n",
    "                                \"Philippine Islands region\" : \"Philippines\", \n",
    "                                \"the Kuril Islands\" : \"Kuril Islands\", \n",
    "                                \"United Kingdom of Great Britain and Northern Ireland (the)\": \"UK\", \n",
    "                                \"People's Republic of China\": \"CHINA\", \"United States of America\": \"USA\", \n",
    "                                \"Alaska\": \"USA\", \"Aleutian Islands, Alaska\" : \"USA\", \"California\" : \"USA\", \n",
    "                                \"India\" : \"India region\", \"Russia\" : \"Russia region\", \"New Zealand\" : \"New Zealand region\", \n",
    "                                \"Japan region\" : \"Japan\"}}, inplace=True)\n",
    "\n",
    "df_country['country'].unique()"
   ]
  },
  {
   "cell_type": "code",
   "execution_count": 40,
   "id": "781a66de",
   "metadata": {},
   "outputs": [
    {
     "data": {
      "text/html": [
       "<div>\n",
       "<style scoped>\n",
       "    .dataframe tbody tr th:only-of-type {\n",
       "        vertical-align: middle;\n",
       "    }\n",
       "\n",
       "    .dataframe tbody tr th {\n",
       "        vertical-align: top;\n",
       "    }\n",
       "\n",
       "    .dataframe thead th {\n",
       "        text-align: right;\n",
       "    }\n",
       "</style>\n",
       "<table border=\"1\" class=\"dataframe\">\n",
       "  <thead>\n",
       "    <tr style=\"text-align: right;\">\n",
       "      <th></th>\n",
       "      <th>country</th>\n",
       "    </tr>\n",
       "  </thead>\n",
       "  <tbody>\n",
       "    <tr>\n",
       "      <th>0</th>\n",
       "      <td>Solomon Islands</td>\n",
       "    </tr>\n",
       "    <tr>\n",
       "      <th>1</th>\n",
       "      <td>NaN</td>\n",
       "    </tr>\n",
       "    <tr>\n",
       "      <th>2</th>\n",
       "      <td>Fiji region</td>\n",
       "    </tr>\n",
       "    <tr>\n",
       "      <th>3</th>\n",
       "      <td>NaN</td>\n",
       "    </tr>\n",
       "    <tr>\n",
       "      <th>4</th>\n",
       "      <td>NaN</td>\n",
       "    </tr>\n",
       "  </tbody>\n",
       "</table>\n",
       "</div>"
      ],
      "text/plain": [
       "           country\n",
       "0  Solomon Islands\n",
       "1              NaN\n",
       "2      Fiji region\n",
       "3              NaN\n",
       "4              NaN"
      ]
     },
     "execution_count": 40,
     "metadata": {},
     "output_type": "execute_result"
    }
   ],
   "source": [
    "df_country.head()"
   ]
  },
  {
   "cell_type": "code",
   "execution_count": 42,
   "id": "56fcb21a",
   "metadata": {},
   "outputs": [],
   "source": [
    "df2.to_csv('resources/cleaned_dataframe.csv')"
   ]
  },
  {
   "cell_type": "code",
   "execution_count": 41,
   "id": "9d6c9fea",
   "metadata": {},
   "outputs": [],
   "source": [
    "import sqlite3\n",
    "\n",
    "\n",
    "# Read the CSV file into a DataFrame\n",
    "\n",
    "\n",
    "# Connect to the SQLite database (or create it if it doesn't exist)\n",
    "conn = sqlite3.connect('earthquake1.db')\n",
    "\n",
    "# Write the DataFrame to the database\n",
    "df2.to_sql('earthquake1', conn, if_exists='replace', index=False)\n",
    "\n",
    "# Commit changes and close the connection\n",
    "conn.commit()\n",
    "conn.close()\n"
   ]
  },
  {
   "cell_type": "code",
   "execution_count": null,
   "id": "dcb32d65",
   "metadata": {},
   "outputs": [],
   "source": []
  }
 ],
 "metadata": {
  "kernelspec": {
   "display_name": "Python 3 (ipykernel)",
   "language": "python",
   "name": "python3"
  },
  "language_info": {
   "codemirror_mode": {
    "name": "ipython",
    "version": 3
   },
   "file_extension": ".py",
   "mimetype": "text/x-python",
   "name": "python",
   "nbconvert_exporter": "python",
   "pygments_lexer": "ipython3",
   "version": "3.10.11"
  }
 },
 "nbformat": 4,
 "nbformat_minor": 5
}
